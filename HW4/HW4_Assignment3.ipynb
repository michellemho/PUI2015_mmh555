{
 "cells": [
  {
   "cell_type": "code",
   "execution_count": 5,
   "metadata": {
    "collapsed": false
   },
   "outputs": [
    {
     "name": "stdout",
     "output_type": "stream",
     "text": [
      "Populating the interactive namespace from numpy and matplotlib\n"
     ]
    }
   ],
   "source": [
    "import pylab as pl\n",
    "import pandas as pd\n",
    "import numpy as np\n",
    "%pylab inline\n",
    "\n",
    "import os\n",
    "import scipy.stats"
   ]
  },
  {
   "cell_type": "code",
   "execution_count": 6,
   "metadata": {
    "collapsed": false
   },
   "outputs": [],
   "source": [
    "FW_months = ['201401','201402','201409','201410','201411','201412']\n",
    "SS_months = ['201403','201404','201405','201406','201407','201408']\n",
    "\n",
    "SS_files = []\n",
    "FW_files = []\n",
    "\n",
    "SS_df = pd.DataFrame()\n",
    "FW_df = pd.DataFrame()\n",
    "Year_df = pd.DataFrame()\n",
    "\n",
    "for SS_month in SS_months:\n",
    "    SS_path = '~/PUI2015_mmh555/citibikes/%s-citibike-tripdata.csv' % SS_month\n",
    "    SS_frame = pd.read_csv(SS_path)\n",
    "    SS_files.append(SS_frame)\n",
    "SS_df = pd.concat(SS_files, ignore_index=True)"
   ]
  },
  {
   "cell_type": "code",
   "execution_count": 7,
   "metadata": {
    "collapsed": false
   },
   "outputs": [
    {
     "name": "stdout",
     "output_type": "stream",
     "text": [
      "4845225\n"
     ]
    }
   ],
   "source": [
    "print (len(SS_df.index))"
   ]
  },
  {
   "cell_type": "code",
   "execution_count": 8,
   "metadata": {
    "collapsed": false
   },
   "outputs": [],
   "source": [
    "for FW_month in FW_months:\n",
    "    FW_path = '~/PUI2015_mmh555/citibikes/%s-citibike-tripdata.csv' % FW_month\n",
    "    FW_frame = pd.read_csv(FW_path)\n",
    "    FW_files.append(FW_frame)\n",
    "FW_df = pd.concat(FW_files, ignore_index=True)"
   ]
  },
  {
   "cell_type": "code",
   "execution_count": 9,
   "metadata": {
    "collapsed": false
   },
   "outputs": [
    {
     "name": "stdout",
     "output_type": "stream",
     "text": [
      "3235991\n"
     ]
    }
   ],
   "source": [
    "print (len(FW_df.index))"
   ]
  },
  {
   "cell_type": "code",
   "execution_count": 10,
   "metadata": {
    "collapsed": true
   },
   "outputs": [],
   "source": [
    "#So it looks like we have less rides in Fall-Winter. That looks right."
   ]
  },
  {
   "cell_type": "code",
   "execution_count": 12,
   "metadata": {
    "collapsed": false
   },
   "outputs": [],
   "source": [
    "FW_df['age'] = 2015 - FW_df['birth year'].convert_objects(convert_numeric = True)[(FW_df['usertype'] == 'Subscriber')]\n",
    "SS_df['age'] = 2015 - SS_df['birth year'].convert_objects(convert_numeric = True)[(SS_df['usertype'] == 'Subscriber')]"
   ]
  },
  {
   "cell_type": "code",
   "execution_count": 13,
   "metadata": {
    "collapsed": false
   },
   "outputs": [
    {
     "data": {
      "image/png": "[encoded data removed]",
      "text/plain": [
       "<matplotlib.figure.Figure at 0x10487eed0>"
      ]
     },
     "metadata": {},
     "output_type": "display_data"
    },
    {
     "data": {
      "image/png": "[encoded data removed]",
      "text/plain": [
       "<matplotlib.figure.Figure at 0x191117250>"
      ]
     },
     "metadata": {},
     "output_type": "display_data"
    }
   ],
   "source": [
    "bins = np.arange(10, 99, 10)\n",
    "FW_df.age.groupby(pd.cut(FW_df.age, bins)).agg([count_nonzero]).plot(kind='bar', title=\"Fall-Winter\")\n",
    "FW_age_dist = FW_df.age.groupby(pd.cut(FW_df.age, bins)).agg([count_nonzero])\n",
    "SS_df.age.groupby(pd.cut(SS_df.age, bins)).agg([count_nonzero]).plot(kind='bar', title=\"Spring-Summer\")\n",
    "SS_age_dist = SS_df.age.groupby(pd.cut(SS_df.age, bins)).agg([count_nonzero])\n",
    "    "
   ]
  },
  {
   "cell_type": "code",
   "execution_count": 14,
   "metadata": {
    "collapsed": false
   },
   "outputs": [
    {
     "name": "stdout",
     "output_type": "stream",
     "text": [
      "winter, normal fit (1.0, 0.0)\n",
      "summer, normal fit (1.0, 0.0)\n"
     ]
    }
   ],
   "source": [
    "ksW=scipy.stats.kstest(FW_age_dist, 'norm')\n",
    "ksS=scipy.stats.kstest(SS_age_dist, 'norm')\n",
    "print \"winter, normal fit\", ksW\n",
    "print \"summer, normal fit\", ksS"
   ]
  },
  {
   "cell_type": "markdown",
   "metadata": {},
   "source": [
    "KS Test interpretation: p-value is very low (zero!) so we fail to reject the null hypothesis. These distributions are similar to the normal distribution...?\n",
    "\n",
    "###Waste of time.\n",
    "\n",
    "\"even if you just replicate it... PLEASE UNDESRTAND IT! or you will have learned nothing and wasted both of our times\"\n",
    "\n",
    "I agree, I have sunk way too much time into these assignments and I have only gotten more confused."
   ]
  },
  {
   "cell_type": "code",
   "execution_count": 15,
   "metadata": {
    "collapsed": true
   },
   "outputs": [],
   "source": []
  },
  {
   "cell_type": "code",
   "execution_count": null,
   "metadata": {
    "collapsed": true
   },
   "outputs": [],
   "source": []
  }
 ],
 "metadata": {
  "kernelspec": {
   "display_name": "Python 2",
   "language": "python",
   "name": "python2"
  },
  "language_info": {
   "codemirror_mode": {
    "name": "ipython",
    "version": 2
   },
   "file_extension": ".py",
   "mimetype": "text/x-python",
   "name": "python",
   "nbconvert_exporter": "python",
   "pygments_lexer": "ipython2",
   "version": "2.7.10"
  }
 },
 "nbformat": 4,
 "nbformat_minor": 0
}
