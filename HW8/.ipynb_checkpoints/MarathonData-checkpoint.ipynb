{
 "cells": [
  {
   "cell_type": "code",
   "execution_count": 127,
   "metadata": {
    "collapsed": false
   },
   "outputs": [
    {
     "name": "stdout",
     "output_type": "stream",
     "text": [
      "Populating the interactive namespace from numpy and matplotlib\n"
     ]
    },
    {
     "name": "stderr",
     "output_type": "stream",
     "text": [
      "WARNING: pylab import has clobbered these variables: ['Figure', 'Annotation']\n",
      "`%matplotlib` prevents importing * from pylab and numpy\n"
     ]
    }
   ],
   "source": [
    "import plotly.plotly\n",
    "from plotly.graph_objs import *\n",
    "import pylab as pl\n",
    "import numpy as np\n",
    "import pandas as pd\n",
    "import datetime\n",
    "import seaborn as sns\n",
    "%pylab inline"
   ]
  },
  {
   "cell_type": "code",
   "execution_count": 96,
   "metadata": {
    "collapsed": false
   },
   "outputs": [],
   "source": [
    "maleDF = pd.read_csv('M2015.csv')\n",
    "femaleDF = pd.read_csv('F2015.csv')"
   ]
  },
  {
   "cell_type": "code",
   "execution_count": 97,
   "metadata": {
    "collapsed": false
   },
   "outputs": [
    {
     "data": {
      "text/html": [
       "<div>\n",
       "<table border=\"1\" class=\"dataframe\">\n",
       "  <thead>\n",
       "    <tr style=\"text-align: right;\">\n",
       "      <th></th>\n",
       "      <th>Place</th>\n",
       "      <th>Bib</th>\n",
       "      <th>Name</th>\n",
       "      <th>Time</th>\n",
       "      <th>State</th>\n",
       "      <th>Country</th>\n",
       "      <th>Citizenship</th>\n",
       "    </tr>\n",
       "  </thead>\n",
       "  <tbody>\n",
       "    <tr>\n",
       "      <th>0</th>\n",
       "      <td>1</td>\n",
       "      <td>101</td>\n",
       "      <td>Mary Keitany</td>\n",
       "      <td>2:24:25</td>\n",
       "      <td>NaN</td>\n",
       "      <td>Kenya</td>\n",
       "      <td>KEN</td>\n",
       "    </tr>\n",
       "    <tr>\n",
       "      <th>1</th>\n",
       "      <td>2</td>\n",
       "      <td>109</td>\n",
       "      <td>Aselefech Mergia</td>\n",
       "      <td>2:25:32</td>\n",
       "      <td>-</td>\n",
       "      <td>Ethiopia</td>\n",
       "      <td>ETH</td>\n",
       "    </tr>\n",
       "    <tr>\n",
       "      <th>2</th>\n",
       "      <td>3</td>\n",
       "      <td>105</td>\n",
       "      <td>Tigist Tufa</td>\n",
       "      <td>2:25:50</td>\n",
       "      <td>NaN</td>\n",
       "      <td>Ethiopia</td>\n",
       "      <td>ETH</td>\n",
       "    </tr>\n",
       "    <tr>\n",
       "      <th>3</th>\n",
       "      <td>4</td>\n",
       "      <td>103</td>\n",
       "      <td>Sara Moreira</td>\n",
       "      <td>2:25:53</td>\n",
       "      <td>NaN</td>\n",
       "      <td>Portugal</td>\n",
       "      <td>POR</td>\n",
       "    </tr>\n",
       "    <tr>\n",
       "      <th>4</th>\n",
       "      <td>5</td>\n",
       "      <td>111</td>\n",
       "      <td>Christelle Daunay</td>\n",
       "      <td>2:26:57</td>\n",
       "      <td>NaN</td>\n",
       "      <td>France</td>\n",
       "      <td>FRA</td>\n",
       "    </tr>\n",
       "  </tbody>\n",
       "</table>\n",
       "</div>"
      ],
      "text/plain": [
       "   Place  Bib               Name     Time State   Country Citizenship\n",
       "0      1  101       Mary Keitany  2:24:25   NaN     Kenya         KEN\n",
       "1      2  109   Aselefech Mergia  2:25:32     -  Ethiopia         ETH\n",
       "2      3  105        Tigist Tufa  2:25:50   NaN  Ethiopia         ETH\n",
       "3      4  103       Sara Moreira  2:25:53   NaN  Portugal         POR\n",
       "4      5  111  Christelle Daunay  2:26:57   NaN    France         FRA"
      ]
     },
     "execution_count": 97,
     "metadata": {},
     "output_type": "execute_result"
    }
   ],
   "source": [
    "femaleDF.head()"
   ]
  },
  {
   "cell_type": "code",
   "execution_count": 98,
   "metadata": {
    "collapsed": false
   },
   "outputs": [
    {
     "data": {
      "text/html": [
       "<div>\n",
       "<table border=\"1\" class=\"dataframe\">\n",
       "  <thead>\n",
       "    <tr style=\"text-align: right;\">\n",
       "      <th></th>\n",
       "      <th>Place</th>\n",
       "      <th>Bib</th>\n",
       "      <th>Name</th>\n",
       "      <th>Time</th>\n",
       "      <th>State</th>\n",
       "      <th>Country</th>\n",
       "      <th>Citizenship</th>\n",
       "    </tr>\n",
       "  </thead>\n",
       "  <tbody>\n",
       "    <tr>\n",
       "      <th>0</th>\n",
       "      <td>1</td>\n",
       "      <td>5</td>\n",
       "      <td>Stanley Biwott</td>\n",
       "      <td>2:10:34</td>\n",
       "      <td>NaN</td>\n",
       "      <td>Kenya</td>\n",
       "      <td>KEN</td>\n",
       "    </tr>\n",
       "    <tr>\n",
       "      <th>1</th>\n",
       "      <td>2</td>\n",
       "      <td>6</td>\n",
       "      <td>Geoffery Kamworor</td>\n",
       "      <td>2:10:48</td>\n",
       "      <td>-</td>\n",
       "      <td>Kenya</td>\n",
       "      <td>KEN</td>\n",
       "    </tr>\n",
       "    <tr>\n",
       "      <th>2</th>\n",
       "      <td>3</td>\n",
       "      <td>2</td>\n",
       "      <td>Lelisa Desisa</td>\n",
       "      <td>2:12:10</td>\n",
       "      <td>NaN</td>\n",
       "      <td>Ethiopia</td>\n",
       "      <td>ETH</td>\n",
       "    </tr>\n",
       "    <tr>\n",
       "      <th>3</th>\n",
       "      <td>4</td>\n",
       "      <td>1</td>\n",
       "      <td>Wilson Kipsang</td>\n",
       "      <td>2:12:45</td>\n",
       "      <td>NaN</td>\n",
       "      <td>Kenya</td>\n",
       "      <td>KEN</td>\n",
       "    </tr>\n",
       "    <tr>\n",
       "      <th>4</th>\n",
       "      <td>5</td>\n",
       "      <td>7</td>\n",
       "      <td>Yemane Tsegay</td>\n",
       "      <td>2:13:24</td>\n",
       "      <td>NaN</td>\n",
       "      <td>Ethiopia</td>\n",
       "      <td>ETH</td>\n",
       "    </tr>\n",
       "  </tbody>\n",
       "</table>\n",
       "</div>"
      ],
      "text/plain": [
       "   Place  Bib               Name     Time State   Country Citizenship\n",
       "0      1    5     Stanley Biwott  2:10:34   NaN     Kenya         KEN\n",
       "1      2    6  Geoffery Kamworor  2:10:48     -     Kenya         KEN\n",
       "2      3    2      Lelisa Desisa  2:12:10   NaN  Ethiopia         ETH\n",
       "3      4    1     Wilson Kipsang  2:12:45   NaN     Kenya         KEN\n",
       "4      5    7      Yemane Tsegay  2:13:24   NaN  Ethiopia         ETH"
      ]
     },
     "execution_count": 98,
     "metadata": {},
     "output_type": "execute_result"
    }
   ],
   "source": [
    "maleDF.head()"
   ]
  },
  {
   "cell_type": "code",
   "execution_count": 106,
   "metadata": {
    "collapsed": false
   },
   "outputs": [
    {
     "data": {
      "text/plain": [
       "2"
      ]
     },
     "execution_count": 106,
     "metadata": {},
     "output_type": "execute_result"
    }
   ],
   "source": [
    "maleDF['TimeParsed'] = pd.to_datetime(maleDF['Time'])\n",
    "femaleDF['TimeParsed'] = pd.to_datetime(femaleDF['Time'])\n",
    "femaleDF['TimeParsed'].dt.hour[0].astype(int)"
   ]
  },
  {
   "cell_type": "code",
   "execution_count": 118,
   "metadata": {
    "collapsed": false
   },
   "outputs": [],
   "source": [
    "mTotalSeconds = []\n",
    "for i, n in enumerate(maleDF['TimeParsed']):    \n",
    "    timeDelta = datetime.timedelta(hours = maleDF['TimeParsed'].dt.hour[i], minutes = maleDF['TimeParsed'].dt.minute[i], seconds = maleDF['TimeParsed'].dt.second[i])\n",
    "    mTotalSeconds.append(timeDelta.total_seconds())\n",
    "fTotalSeconds = []\n",
    "for i, n in enumerate(femaleDF['TimeParsed']):    \n",
    "    FtimeDelta = datetime.timedelta(hours = femaleDF['TimeParsed'].dt.hour[i].astype(int), minutes = femaleDF['TimeParsed'].dt.minute[i].astype(int), seconds = femaleDF['TimeParsed'].dt.second[i].astype(int))\n",
    "    fTotalSeconds.append(FtimeDelta.total_seconds())"
   ]
  },
  {
   "cell_type": "code",
   "execution_count": 119,
   "metadata": {
    "collapsed": false
   },
   "outputs": [],
   "source": [
    "FemaleTimes = pd.Series(fTotalSeconds, name='Female Time (seconds)')\n",
    "MaleTimes = pd.Series(mTotalSeconds, name='Male Time (seconds)')\n",
    "\n",
    "timeDF = pd.concat([FemaleTimes,MaleTimes],axis=1)"
   ]
  },
  {
   "cell_type": "code",
   "execution_count": 123,
   "metadata": {
    "collapsed": false
   },
   "outputs": [],
   "source": [
    "marathonDF = timeDF.drop(100)"
   ]
  },
  {
   "cell_type": "code",
   "execution_count": 125,
   "metadata": {
    "collapsed": false
   },
   "outputs": [
    {
     "data": {
      "text/plain": [
       "array([[<matplotlib.axes._subplots.AxesSubplot object at 0x10af0bdd0>,\n",
       "        <matplotlib.axes._subplots.AxesSubplot object at 0x10b693550>]], dtype=object)"
      ]
     },
     "execution_count": 125,
     "metadata": {},
     "output_type": "execute_result"
    },
    {
     "data": {
      "image/png": "[encoded data removed]",
      "text/plain": [
       "<matplotlib.figure.Figure at 0x10af6d490>"
      ]
     },
     "metadata": {},
     "output_type": "display_data"
    }
   ],
   "source": [
    "marathonDF.hist()"
   ]
  },
  {
   "cell_type": "code",
   "execution_count": null,
   "metadata": {
    "collapsed": true
   },
   "outputs": [],
   "source": []
  }
 ],
 "metadata": {
  "kernelspec": {
   "display_name": "Python 2",
   "language": "python",
   "name": "python2"
  },
  "language_info": {
   "codemirror_mode": {
    "name": "ipython",
    "version": 2
   },
   "file_extension": ".py",
   "mimetype": "text/x-python",
   "name": "python",
   "nbconvert_exporter": "python",
   "pygments_lexer": "ipython2",
   "version": "2.7.10"
  }
 },
 "nbformat": 4,
 "nbformat_minor": 0
}
